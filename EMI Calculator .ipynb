{
 "cells": [
  {
   "cell_type": "markdown",
   "id": "420676e2",
   "metadata": {},
   "source": [
    "# EMI Calculator \n",
    "\n"
   ]
  },
  {
   "cell_type": "markdown",
   "id": "16ee86dc",
   "metadata": {},
   "source": [
    "### Scenario 1 Input ROI, Loan Amount, Tenure\n",
    "\n"
   ]
  },
  {
   "cell_type": "code",
   "execution_count": 1,
   "id": "32143f53",
   "metadata": {},
   "outputs": [
    {
     "name": "stdout",
     "output_type": "stream",
     "text": [
      "Enter Principal Amount:5000000\n",
      "Enter Rate Of Interest:8\n",
      "Number of Years :15\n"
     ]
    }
   ],
   "source": [
    "# Input your Principle amount, Rate of Interest, Number of Years (Loan Tenure).\n",
    "P=int(input(\"Enter Principal Amount:\"))\n",
    "R=int(input(\"Enter Rate Of Interest:\"))\n",
    "n=int(input(\"Number of Years :\"))*12\n"
   ]
  },
  {
   "cell_type": "code",
   "execution_count": 2,
   "id": "00b50b8f",
   "metadata": {},
   "outputs": [],
   "source": [
    "# Monthy Rate of Interest\n",
    "r=R/(12*100)\n"
   ]
  },
  {
   "cell_type": "code",
   "execution_count": 3,
   "id": "b947c966",
   "metadata": {},
   "outputs": [],
   "source": [
    "# EMI Formula For Calculating Montly EMI\n",
    "EMI = P*r*(1+r)**n/((1+r)**n-1)\n"
   ]
  },
  {
   "cell_type": "code",
   "execution_count": 4,
   "id": "e2aa7bdf",
   "metadata": {},
   "outputs": [
    {
     "name": "stdout",
     "output_type": "stream",
     "text": [
      "Monthly EMI =  47783\n"
     ]
    }
   ],
   "source": [
    "print(\"Monthly EMI = \", round(EMI))"
   ]
  },
  {
   "cell_type": "markdown",
   "id": "aa980bf9",
   "metadata": {},
   "source": [
    "### Scenario  2 :  If the interest rate increases to 10%, and you cannot pay more than 30,000 as EMI,\n",
    "### Find the maximum amount of Loan you can take/afford for the same period?"
   ]
  },
  {
   "cell_type": "code",
   "execution_count": 5,
   "id": "63c66bcf",
   "metadata": {},
   "outputs": [
    {
     "name": "stdout",
     "output_type": "stream",
     "text": [
      "Maximum  Loan Amount =  2791723\n"
     ]
    }
   ],
   "source": [
    "E2=30000 # EMI Amount\n",
    "R=10 #Yearly rate of interest \n",
    "n=15*12 # Number of Days\n",
    "r=R/(12*100) #Monthly rate of interest \n",
    "p=E2*(((1+r)**n)-1)/(r*((1+r)**n))\n",
    "print(\"Maximum  Loan Amount = \", round(p))"
   ]
  },
  {
   "cell_type": "markdown",
   "id": "dc211b27",
   "metadata": {},
   "source": [
    "### For the Scenario  1. what is the total interest paid by you year-wise (from the 1st year to the 15th year).\n",
    "### Also, what is the total cumulative interest paid by you in 15 years?"
   ]
  },
  {
   "cell_type": "code",
   "execution_count": 6,
   "id": "dc48b89f",
   "metadata": {},
   "outputs": [
    {
     "name": "stdout",
     "output_type": "stream",
     "text": [
      "Interest paid in year 1: 393498.897\n",
      "Interest paid in year 2: 378567.92\n",
      "Interest paid in year 3: 362397.68\n",
      "Interest paid in year 4: 344885.318\n",
      "Interest paid in year 5: 325919.438\n",
      "Interest paid in year 6: 305379.4\n",
      "Interest paid in year 7: 283134.548\n",
      "Interest paid in year 8: 259043.385\n",
      "Interest paid in year 9: 232952.667\n",
      "Interest paid in year 10: 204696.433\n",
      "Interest paid in year 11: 174094.945\n",
      "Interest paid in year 12: 140953.548\n",
      "Interest paid in year 13: 105061.432\n",
      "Interest paid in year 14: 66190.288\n",
      "Interest paid in year 15: 24092.859\n",
      "--------------------------------------------\n",
      "The total interest paid in 15 years is: 3600868.759\n"
     ]
    }
   ],
   "source": [
    "p = 5000000\n",
    "r = 8/(12*100) #Monthly interest rate\n",
    "n = 15*12 #Convert to months\n",
    "\n",
    "Pr = p\n",
    "year_int = 0\n",
    "cumul_int = 0\n",
    "for y in range(1,n+1):\n",
    "    Int_yr = Pr * r\n",
    "    year_int += Int_yr\n",
    "    cumul_int += Int_yr\n",
    "    principal_paid = EMI - Int_yr\n",
    "    Pr = Pr - principal_paid\n",
    "    if y%12 == 0:\n",
    "        print(\"Interest paid in year \" + str(int(y/12)) + \":\" ,round(year_int,3))\n",
    "        year_int=0\n",
    "print(\"--------------------------------------------\")\n",
    "print(\"The total interest paid in 15 years is:\",round(cumul_int,3))"
   ]
  },
  {
   "cell_type": "markdown",
   "id": "705bbd22",
   "metadata": {},
   "source": [
    "### For Scenario  1., in how many months would you have paid atleast 50% of the Principal amount. "
   ]
  },
  {
   "cell_type": "code",
   "execution_count": 7,
   "id": "bfcf6bee",
   "metadata": {},
   "outputs": [
    {
     "name": "stdout",
     "output_type": "stream",
     "text": [
      "50% of pricipal amount is paid in 116 Month \n"
     ]
    }
   ],
   "source": [
    "# In how many months would you have paid atleast 50% of the Principal amount.\n",
    "r=8/12 #rate of interest\n",
    "Principal_remaining=5000000\n",
    "EMI=47783.0\n",
    "for x in range(12*15):\n",
    "        \n",
    "    Month_Wise_interest=round((r*Principal_remaining/100),0)\n",
    "\n",
    "    Principal_Amount_for_Nth_Month= EMI-Month_Wise_interest\n",
    "\n",
    "    Principal_remaining=Principal_remaining-Principal_Amount_for_Nth_Month\n",
    "    if(Principal_remaining<=2500000):\n",
    "        print(f\"50% of pricipal amount is paid in {x+1} Month \")\n",
    "        break"
   ]
  }
 ],
 "metadata": {
  "kernelspec": {
   "display_name": "Python 3 (ipykernel)",
   "language": "python",
   "name": "python3"
  },
  "language_info": {
   "codemirror_mode": {
    "name": "ipython",
    "version": 3
   },
   "file_extension": ".py",
   "mimetype": "text/x-python",
   "name": "python",
   "nbconvert_exporter": "python",
   "pygments_lexer": "ipython3",
   "version": "3.10.4"
  }
 },
 "nbformat": 4,
 "nbformat_minor": 5
}
